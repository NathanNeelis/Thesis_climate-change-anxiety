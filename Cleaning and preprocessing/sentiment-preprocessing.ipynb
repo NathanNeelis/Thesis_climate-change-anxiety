{
 "cells": [
  {
   "cell_type": "code",
   "execution_count": 1,
   "id": "1ab2f8fc",
   "metadata": {},
   "outputs": [],
   "source": [
    "import pandas as pd\n",
    "import collections\n",
    "import re\n",
    "import string\n",
    "import nltk\n",
    "from nltk.tokenize import word_tokenize\n",
    "from nltk.corpus import stopwords\n",
    "from nltk.stem import PorterStemmer\n",
    "from nltk.stem import WordNetLemmatizer"
   ]
  },
  {
   "cell_type": "code",
   "execution_count": 2,
   "id": "07e56728",
   "metadata": {},
   "outputs": [],
   "source": [
    "df = pd.read_csv('ds_sentiment/annotation_set_sentiment.csv')"
   ]
  },
  {
   "cell_type": "code",
   "execution_count": 3,
   "id": "d1def4af",
   "metadata": {},
   "outputs": [],
   "source": [
    "df_pp = df"
   ]
  },
  {
   "cell_type": "markdown",
   "id": "dd35d1b6",
   "metadata": {},
   "source": [
    "### tokenization"
   ]
  },
  {
   "cell_type": "code",
   "execution_count": 4,
   "id": "42788ae8",
   "metadata": {},
   "outputs": [],
   "source": [
    "# Convert all text to lowercase.\n",
    "df_pp['body-sm'] = df_pp['body'].str.lower()"
   ]
  },
  {
   "cell_type": "code",
   "execution_count": 5,
   "id": "2d81a484",
   "metadata": {},
   "outputs": [],
   "source": [
    "#remove some more characters. This should be done in the general preprocessing before!!\n",
    "df_pp['body-sm'] = df_pp['body-sm'].str.replace('\\n', '')\n",
    "df_pp['body-sm'] = df_pp['body-sm'].str.replace('&#x200b;', '')"
   ]
  },
  {
   "cell_type": "code",
   "execution_count": 6,
   "id": "cbf23939",
   "metadata": {},
   "outputs": [
    {
     "name": "stdout",
     "output_type": "stream",
     "text": [
      "468\n"
     ]
    }
   ],
   "source": [
    "#removing nulls?\n",
    "mask = df_pp['body-sm'].notnull()\n",
    "df_pp = df_pp[mask]\n",
    "print(len(df_pp))"
   ]
  },
  {
   "cell_type": "code",
   "execution_count": 7,
   "id": "06b4f740",
   "metadata": {},
   "outputs": [],
   "source": [
    "def tokenize_text(text):\n",
    "    tokens = word_tokenize(text)\n",
    "    return tokens\n",
    "\n",
    "df_pp['body-sm'] = df_pp['body-sm'].apply(tokenize_text)"
   ]
  },
  {
   "cell_type": "markdown",
   "id": "d3ddd0ac",
   "metadata": {},
   "source": [
    "### Stopwords"
   ]
  },
  {
   "cell_type": "code",
   "execution_count": 8,
   "id": "91b6c2ad",
   "metadata": {},
   "outputs": [],
   "source": [
    "# Remove stopwords using the NLTK library.\n",
    "stopwords = stopwords.words('english')\n",
    "df_pp['body-sm'] = df_pp['body-sm'].apply(lambda x: [word for word in x if word not in stopwords])"
   ]
  },
  {
   "cell_type": "markdown",
   "id": "171a94a5",
   "metadata": {},
   "source": [
    "### lemmatizer"
   ]
  },
  {
   "cell_type": "code",
   "execution_count": 9,
   "id": "88715de3",
   "metadata": {},
   "outputs": [],
   "source": [
    "lemmatizer = WordNetLemmatizer()\n",
    "df_pp['body-sm'] = df_pp['body-sm'].apply(lambda x: [lemmatizer.lemmatize(token) for token in x])"
   ]
  },
  {
   "cell_type": "code",
   "execution_count": 10,
   "id": "71790769",
   "metadata": {},
   "outputs": [],
   "source": [
    "df_pp['body-sm'] = df_pp['body-sm'].apply(lambda x: ' '.join(x))"
   ]
  },
  {
   "cell_type": "code",
   "execution_count": 11,
   "id": "1f2d51b9",
   "metadata": {},
   "outputs": [],
   "source": [
    "# # Remove punctuation using the string library.\n",
    "df_pp['body-sm'] = df_pp['body-sm'].apply(lambda x: x.translate(str.maketrans('', '', string.punctuation)))"
   ]
  },
  {
   "cell_type": "code",
   "execution_count": 12,
   "id": "c5446162",
   "metadata": {},
   "outputs": [
    {
     "name": "stdout",
     "output_type": "stream",
     "text": [
      "Original word: cars\n",
      "Lemmatized word: car\n"
     ]
    }
   ],
   "source": [
    "#testing\n",
    "word = \"cars\"\n",
    "lemma_word = lemmatizer.lemmatize(word)\n",
    "\n",
    "print(f\"Original word: {word}\")\n",
    "print(f\"Lemmatized word: {lemma_word}\")\n"
   ]
  },
  {
   "cell_type": "markdown",
   "id": "cb9f666a",
   "metadata": {},
   "source": [
    "### add another layer of textblob sentiment analysis"
   ]
  },
  {
   "cell_type": "code",
   "execution_count": 13,
   "id": "04f408d0",
   "metadata": {},
   "outputs": [],
   "source": [
    "from textblob import TextBlob"
   ]
  },
  {
   "cell_type": "code",
   "execution_count": 14,
   "id": "81dc7c2f",
   "metadata": {},
   "outputs": [],
   "source": [
    "sentiment_tb_df = df_pp"
   ]
  },
  {
   "cell_type": "code",
   "execution_count": 15,
   "id": "9ae4397c",
   "metadata": {},
   "outputs": [],
   "source": [
    "def getSubjectivity(text):\n",
    "    return TextBlob(text).sentiment.subjectivity\n",
    "  \n",
    "#Create a function to get the polarity\n",
    "def getPolarity(text):\n",
    "    return TextBlob(text).sentiment.polarity\n",
    "\n",
    "\n",
    "#Create two new columns ‘Subjectivity’ & ‘Polarity’\n",
    "sentiment_tb_df['sentiment_textblob_subjectivity-v2'] = sentiment_tb_df['body-sm'].apply(getSubjectivity)\n",
    "sentiment_tb_df['sentiment_textblob_polarity-v2'] = sentiment_tb_df['body-sm'].apply(getPolarity)\n",
    "\n",
    "sentiment_tb_df['sentiment_textblob-v2'] = 'neutral'\n",
    "sentiment_tb_df.loc[df_pp['sentiment_textblob_polarity-v2'] > 0, 'sentiment_textblob-v2'] = 'positive'\n",
    "sentiment_tb_df.loc[df_pp['sentiment_textblob_polarity-v2'] < 0, 'sentiment_textblob-v2'] = 'negative'\n",
    " "
   ]
  },
  {
   "cell_type": "code",
   "execution_count": 16,
   "id": "d51b0a64",
   "metadata": {},
   "outputs": [],
   "source": [
    "sentiment_tb_df = sentiment_tb_df.drop('sentiment_textblob_subjectivity-v2', axis=1)\n",
    "sentiment_tb_df = sentiment_tb_df.drop('sentiment_textblob_polarity-v2', axis=1)"
   ]
  },
  {
   "cell_type": "code",
   "execution_count": 18,
   "id": "c919f60d",
   "metadata": {},
   "outputs": [],
   "source": [
    "sentiment_tb_df.to_csv('ds_sentiment/annotation_set_sentiment_extra.csv', index=False)"
   ]
  },
  {
   "cell_type": "code",
   "execution_count": null,
   "id": "61ebab61",
   "metadata": {},
   "outputs": [],
   "source": [
    "sentiment_tb_df.head(5)"
   ]
  }
 ],
 "metadata": {
  "kernelspec": {
   "display_name": "Python 3 (ipykernel)",
   "language": "python",
   "name": "python3"
  },
  "language_info": {
   "codemirror_mode": {
    "name": "ipython",
    "version": 3
   },
   "file_extension": ".py",
   "mimetype": "text/x-python",
   "name": "python",
   "nbconvert_exporter": "python",
   "pygments_lexer": "ipython3",
   "version": "3.9.13"
  }
 },
 "nbformat": 4,
 "nbformat_minor": 5
}
