{
 "cells": [
  {
   "cell_type": "code",
   "execution_count": 2,
   "id": "dfc43b51",
   "metadata": {},
   "outputs": [],
   "source": [
    "import pandas as pd\n",
    "import collections\n",
    "import re\n",
    "import string\n",
    "import nltk\n",
    "from nltk.corpus import stopwords\n",
    "from nltk.stem import PorterStemmer\n",
    "from nltk.sentiment import SentimentIntensityAnalyzer\n",
    "import torch\n",
    "from transformers import pipeline"
   ]
  },
  {
   "cell_type": "markdown",
   "id": "7e84f96c",
   "metadata": {},
   "source": [
    "## Dataset"
   ]
  },
  {
   "cell_type": "code",
   "execution_count": 3,
   "id": "184af04f",
   "metadata": {},
   "outputs": [],
   "source": [
    "data_df = pd.read_csv('ds_master/reddit_climatechange_dataset.csv', low_memory=False, lineterminator='\\n')"
   ]
  },
  {
   "cell_type": "code",
   "execution_count": 4,
   "id": "11a66fd0",
   "metadata": {},
   "outputs": [
    {
     "name": "stdout",
     "output_type": "stream",
     "text": [
      "1954979\n"
     ]
    }
   ],
   "source": [
    "print(len(data_df))"
   ]
  },
  {
   "cell_type": "markdown",
   "id": "3b528a84",
   "metadata": {},
   "source": [
    "### VADER Sentiment analysis"
   ]
  },
  {
   "cell_type": "code",
   "execution_count": 3,
   "id": "fd221692",
   "metadata": {},
   "outputs": [],
   "source": [
    "sentiment_df = data_df"
   ]
  },
  {
   "cell_type": "markdown",
   "id": "ae53ec00",
   "metadata": {},
   "source": [
    "#### few preprocessing steps"
   ]
  },
  {
   "cell_type": "code",
   "execution_count": 4,
   "id": "b9d68871",
   "metadata": {},
   "outputs": [],
   "source": [
    "# remove all /n characters\n",
    "sentiment_df['body'] = sentiment_df['body'].str.replace('\\n', '')"
   ]
  },
  {
   "cell_type": "code",
   "execution_count": 5,
   "id": "98abdb2a",
   "metadata": {},
   "outputs": [
    {
     "name": "stdout",
     "output_type": "stream",
     "text": [
      "1954979\n"
     ]
    }
   ],
   "source": [
    "print(len(sentiment_df))"
   ]
  },
  {
   "cell_type": "code",
   "execution_count": 6,
   "id": "9346d8c5",
   "metadata": {},
   "outputs": [
    {
     "name": "stdout",
     "output_type": "stream",
     "text": [
      "1950768\n"
     ]
    }
   ],
   "source": [
    "# remove empty values\n",
    "mask = sentiment_df['body'].notnull()\n",
    "sentiment_df = sentiment_df[mask]\n",
    "print(len(sentiment_df))"
   ]
  },
  {
   "cell_type": "markdown",
   "id": "7db5433a",
   "metadata": {},
   "source": [
    "#### VADER model"
   ]
  },
  {
   "cell_type": "code",
   "execution_count": 7,
   "id": "9aaf888c",
   "metadata": {},
   "outputs": [
    {
     "name": "stderr",
     "output_type": "stream",
     "text": [
      "/var/folders/6c/yrt1h_5d5974tvcf43r84dvr0000gn/T/ipykernel_59891/1570117715.py:10: SettingWithCopyWarning: \n",
      "A value is trying to be set on a copy of a slice from a DataFrame.\n",
      "Try using .loc[row_indexer,col_indexer] = value instead\n",
      "\n",
      "See the caveats in the documentation: https://pandas.pydata.org/pandas-docs/stable/user_guide/indexing.html#returning-a-view-versus-a-copy\n",
      "  sentiment_df['vader_sentiment_scores'] = sentiment_df['body'].apply(get_sentiment_scores)\n",
      "/var/folders/6c/yrt1h_5d5974tvcf43r84dvr0000gn/T/ipykernel_59891/1570117715.py:13: SettingWithCopyWarning: \n",
      "A value is trying to be set on a copy of a slice from a DataFrame.\n",
      "Try using .loc[row_indexer,col_indexer] = value instead\n",
      "\n",
      "See the caveats in the documentation: https://pandas.pydata.org/pandas-docs/stable/user_guide/indexing.html#returning-a-view-versus-a-copy\n",
      "  sentiment_df['vader_sentiment_compound'] = sentiment_df['vader_sentiment_scores'].apply(lambda x: x['compound'])\n",
      "/var/folders/6c/yrt1h_5d5974tvcf43r84dvr0000gn/T/ipykernel_59891/1570117715.py:18: SettingWithCopyWarning: \n",
      "A value is trying to be set on a copy of a slice from a DataFrame.\n",
      "Try using .loc[row_indexer,col_indexer] = value instead\n",
      "\n",
      "See the caveats in the documentation: https://pandas.pydata.org/pandas-docs/stable/user_guide/indexing.html#returning-a-view-versus-a-copy\n",
      "  sentiment_df['sentiment_vader'] = 'neutral'\n"
     ]
    }
   ],
   "source": [
    "# Create an instance of the VADER sentiment analyzer\n",
    "analyzer = SentimentIntensityAnalyzer()\n",
    "\n",
    "# Define a function to compute the sentiment scores for a given text\n",
    "def get_sentiment_scores(text):\n",
    "    scores = analyzer.polarity_scores(text)\n",
    "    return scores\n",
    "\n",
    "# Apply the sentiment analysis function to the 'body' column of your DataFrame\n",
    "sentiment_df['vader_sentiment_scores'] = sentiment_df['body'].apply(get_sentiment_scores)\n",
    "\n",
    "# Extract the compound score from the sentiment scores and store it in a new column\n",
    "sentiment_df['vader_sentiment_compound'] = sentiment_df['vader_sentiment_scores'].apply(lambda x: x['compound'])\n",
    "# sentiment_df['sentiment_positive'] = sentiment_df['sentiment_scores'].apply(lambda x: x['pos'])\n",
    "# sentiment_df['sentiment_negative'] = sentiment_df['sentiment_scores'].apply(lambda x: x['neg'])\n",
    "# sentiment_df['sentiment_neutral'] = sentiment_df['sentiment_scores'].apply(lambda x: x['neu'])\n",
    "\n",
    "sentiment_df['sentiment_vader'] = 'neutral'\n",
    "sentiment_df.loc[sentiment_df['vader_sentiment_compound'] >= 0.05, 'sentiment_vader'] = 'positive'\n",
    "sentiment_df.loc[sentiment_df['vader_sentiment_compound'] <= -0.05, 'sentiment_vader'] = 'negative'\n"
   ]
  },
  {
   "cell_type": "code",
   "execution_count": 8,
   "id": "4e73bde5",
   "metadata": {},
   "outputs": [
    {
     "name": "stdout",
     "output_type": "stream",
     "text": [
      "  created_utc     utc_datetime_str  subreddit       id   \n",
      "0  1359582044  2013-01-30 21:40:44  AskReddit  c86hmqz  \\\n",
      "1  1359576987  2013-01-30 20:16:27  AskReddit  c86fpmd   \n",
      "2  1359574847  2013-01-30 19:40:47  AskReddit  c86ewz9   \n",
      "3  1359566007  2013-01-30 17:13:27  AskReddit  c86bu1y   \n",
      "4  1359565884  2013-01-30 17:11:24  AskReddit  c86bsnj   \n",
      "5  1359559914  2013-01-30 15:31:54  AskReddit  c869yg4   \n",
      "6  1359532958  2013-01-30 08:02:38  AskReddit  c865vee   \n",
      "7  1359526259  2013-01-30 06:10:59  AskReddit  c864ioc   \n",
      "8  1359525357  2013-01-30 05:55:57  AskReddit  c864abh   \n",
      "9  1359524230  2013-01-30 05:37:10  AskReddit  c863yy8   \n",
      "\n",
      "                                                body   \n",
      "0  The climate change denier analogy that I made ...  \\\n",
      "1  It seems to be getting more attention than tho...   \n",
      "2  Build a new one in Antarctica. Underground, or...   \n",
      "3  Fucking climate change. It disgusts me that so...   \n",
      "4  I stress about climate change, and worry about...   \n",
      "5  They can efficiently take down any civilian re...   \n",
      "6  There most definitely are ethical issues, just...   \n",
      "7  Sure I can - I live happily thinking what I be...   \n",
      "8  I do, yes. I don't believe anything I hear or ...   \n",
      "9  Climate change is much in effect.  But change ...   \n",
      "\n",
      "                              vader_sentiment_scores   \n",
      "0  {'neg': 0.043, 'neu': 0.834, 'pos': 0.123, 'co...  \\\n",
      "1  {'neg': 0.152, 'neu': 0.753, 'pos': 0.095, 'co...   \n",
      "2  {'neg': 0.0, 'neu': 0.894, 'pos': 0.106, 'comp...   \n",
      "3  {'neg': 0.183, 'neu': 0.649, 'pos': 0.168, 'co...   \n",
      "4  {'neg': 0.449, 'neu': 0.551, 'pos': 0.0, 'comp...   \n",
      "5  {'neg': 0.106, 'neu': 0.828, 'pos': 0.066, 'co...   \n",
      "6  {'neg': 0.148, 'neu': 0.635, 'pos': 0.217, 'co...   \n",
      "7  {'neg': 0.039, 'neu': 0.821, 'pos': 0.14, 'com...   \n",
      "8  {'neg': 0.1, 'neu': 0.841, 'pos': 0.059, 'comp...   \n",
      "9  {'neg': 0.202, 'neu': 0.798, 'pos': 0.0, 'comp...   \n",
      "\n",
      "   vader_sentiment_compound sentiment_vader  \n",
      "0                    0.6948        positive  \n",
      "1                   -0.7982        negative  \n",
      "2                    0.2263        positive  \n",
      "3                   -0.0644        negative  \n",
      "4                   -0.6908        negative  \n",
      "5                   -0.8996        negative  \n",
      "6                    0.9855        positive  \n",
      "7                    0.7409        positive  \n",
      "8                   -0.7992        negative  \n",
      "9                   -0.6486        negative  \n"
     ]
    }
   ],
   "source": [
    "print(sentiment_df.head(10))"
   ]
  },
  {
   "cell_type": "code",
   "execution_count": 10,
   "id": "4d9ea783",
   "metadata": {},
   "outputs": [],
   "source": [
    "sentiment_df = sentiment_df.drop('vader_sentiment_scores', axis=1)"
   ]
  },
  {
   "cell_type": "code",
   "execution_count": 11,
   "id": "5f0f1eba",
   "metadata": {},
   "outputs": [
    {
     "name": "stdout",
     "output_type": "stream",
     "text": [
      "  created_utc     utc_datetime_str  subreddit       id   \n",
      "0  1359582044  2013-01-30 21:40:44  AskReddit  c86hmqz  \\\n",
      "1  1359576987  2013-01-30 20:16:27  AskReddit  c86fpmd   \n",
      "2  1359574847  2013-01-30 19:40:47  AskReddit  c86ewz9   \n",
      "3  1359566007  2013-01-30 17:13:27  AskReddit  c86bu1y   \n",
      "4  1359565884  2013-01-30 17:11:24  AskReddit  c86bsnj   \n",
      "5  1359559914  2013-01-30 15:31:54  AskReddit  c869yg4   \n",
      "6  1359532958  2013-01-30 08:02:38  AskReddit  c865vee   \n",
      "7  1359526259  2013-01-30 06:10:59  AskReddit  c864ioc   \n",
      "8  1359525357  2013-01-30 05:55:57  AskReddit  c864abh   \n",
      "9  1359524230  2013-01-30 05:37:10  AskReddit  c863yy8   \n",
      "\n",
      "                                                body   \n",
      "0  The climate change denier analogy that I made ...  \\\n",
      "1  It seems to be getting more attention than tho...   \n",
      "2  Build a new one in Antarctica. Underground, or...   \n",
      "3  Fucking climate change. It disgusts me that so...   \n",
      "4  I stress about climate change, and worry about...   \n",
      "5  They can efficiently take down any civilian re...   \n",
      "6  There most definitely are ethical issues, just...   \n",
      "7  Sure I can - I live happily thinking what I be...   \n",
      "8  I do, yes. I don't believe anything I hear or ...   \n",
      "9  Climate change is much in effect.  But change ...   \n",
      "\n",
      "   vader_sentiment_compound sentiment_vader  \n",
      "0                    0.6948        positive  \n",
      "1                   -0.7982        negative  \n",
      "2                    0.2263        positive  \n",
      "3                   -0.0644        negative  \n",
      "4                   -0.6908        negative  \n",
      "5                   -0.8996        negative  \n",
      "6                    0.9855        positive  \n",
      "7                    0.7409        positive  \n",
      "8                   -0.7992        negative  \n",
      "9                   -0.6486        negative  \n"
     ]
    }
   ],
   "source": [
    "print(sentiment_df.head(10))"
   ]
  },
  {
   "cell_type": "code",
   "execution_count": 12,
   "id": "e987284e",
   "metadata": {},
   "outputs": [],
   "source": [
    "sentiment_df.to_csv('ds_sentiment/reddit_climatechange_dataset_sentiment.csv', index=False)"
   ]
  },
  {
   "cell_type": "markdown",
   "id": "c1d758fc",
   "metadata": {},
   "source": [
    "## further analysis of sentiment vader"
   ]
  },
  {
   "cell_type": "code",
   "execution_count": null,
   "id": "d66bbc18",
   "metadata": {},
   "outputs": [],
   "source": []
  }
 ],
 "metadata": {
  "kernelspec": {
   "display_name": "Python 3 (ipykernel)",
   "language": "python",
   "name": "python3"
  },
  "language_info": {
   "codemirror_mode": {
    "name": "ipython",
    "version": 3
   },
   "file_extension": ".py",
   "mimetype": "text/x-python",
   "name": "python",
   "nbconvert_exporter": "python",
   "pygments_lexer": "ipython3",
   "version": "3.9.13"
  }
 },
 "nbformat": 4,
 "nbformat_minor": 5
}
