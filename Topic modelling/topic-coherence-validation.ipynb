{
 "cells": [
  {
   "cell_type": "code",
   "execution_count": 1,
   "id": "61dd6061",
   "metadata": {},
   "outputs": [
    {
     "name": "stderr",
     "output_type": "stream",
     "text": [
      "C:\\Users\\suzan\\anaconda3\\lib\\site-packages\\scipy\\__init__.py:146: UserWarning: A NumPy version >=1.16.5 and <1.23.0 is required for this version of SciPy (detected version 1.24.3\n",
      "  warnings.warn(f\"A NumPy version >={np_minversion} and <{np_maxversion}\"\n"
     ]
    }
   ],
   "source": [
    "import pandas as pd\n",
    "import collections\n",
    "import gensim\n",
    "from gensim import corpora\n",
    "from gensim.models import CoherenceModel\n",
    "from gensim.models import LdaModel\n"
   ]
  },
  {
   "cell_type": "code",
   "execution_count": 2,
   "id": "23674f94",
   "metadata": {},
   "outputs": [],
   "source": [
    "# load the dataset\n",
    "# df = pd.read_csv('ds_test/preprocessed_topicmoddeling_masterset.csv', low_memory=False, lineterminator='\\n')\n",
    "df = pd.read_csv('reddit_climatechange_dataset_sentiment-v2.csv', low_memory=False, lineterminator='\\n')"
   ]
  },
  {
   "cell_type": "code",
   "execution_count": 3,
   "id": "bc03f5d0",
   "metadata": {},
   "outputs": [],
   "source": [
    "df_dtm = df"
   ]
  },
  {
   "cell_type": "markdown",
   "id": "22b236f2",
   "metadata": {},
   "source": [
    "### Document Term Matrix"
   ]
  },
  {
   "cell_type": "code",
   "execution_count": 4,
   "id": "f19bc6c3",
   "metadata": {},
   "outputs": [],
   "source": [
    "#removing nulls\n",
    "mask = df_dtm['body-tm'].notnull()\n",
    "df_dtm = df_dtm[mask]"
   ]
  },
  {
   "cell_type": "code",
   "execution_count": 5,
   "id": "11657303",
   "metadata": {},
   "outputs": [],
   "source": [
    "# convert the preprocessed text column to a list of strings\n",
    "documents = list(df_dtm['body-tm'])\n",
    "\n",
    "# tokenize the documents\n",
    "tokenized_docs = [doc.split() for doc in documents]\n",
    "\n",
    "# create a dictionary from the tokenized documents\n",
    "dictionary = corpora.Dictionary(tokenized_docs)\n",
    "\n",
    "# create a corpus using the dictionary and the tokenized documents\n",
    "corpus = [dictionary.doc2bow(doc) for doc in tokenized_docs]"
   ]
  },
  {
   "cell_type": "code",
   "execution_count": 6,
   "id": "33e128fe",
   "metadata": {},
   "outputs": [],
   "source": [
    "# Load the saved LDA model\n",
    "lda_model = LdaModel.load(\"tm_seed4894454_topics30.model\")"
   ]
  },
  {
   "cell_type": "code",
   "execution_count": 7,
   "id": "135c55fa",
   "metadata": {},
   "outputs": [],
   "source": [
    "num_topics = 30\n",
    "total_words = 10"
   ]
  },
  {
   "cell_type": "markdown",
   "id": "3e2b8b64",
   "metadata": {},
   "source": [
    "## Save topic coherence"
   ]
  },
  {
   "cell_type": "code",
   "execution_count": 8,
   "id": "2e2a1660",
   "metadata": {},
   "outputs": [],
   "source": [
    "# Define the topic number for which you want to calculate the coherence score\n",
    "topic_number = 6"
   ]
  },
  {
   "cell_type": "code",
   "execution_count": 9,
   "id": "f8665805",
   "metadata": {},
   "outputs": [
    {
     "name": "stdout",
     "output_type": "stream",
     "text": [
      "2023-05-18 15:49:47.825696\n"
     ]
    }
   ],
   "source": [
    "import datetime\n",
    "before = datetime.datetime.now()\n",
    "print(before)"
   ]
  },
  {
   "cell_type": "code",
   "execution_count": 10,
   "id": "83f073dd",
   "metadata": {},
   "outputs": [],
   "source": [
    "# Compute coherence score for the specific topic\n",
    "coherence_model = CoherenceModel(\n",
    "    model=lda_model,\n",
    "    texts=tokenized_docs,\n",
    "    dictionary=dictionary,\n",
    "    coherence='c_v'\n",
    ")"
   ]
  },
  {
   "cell_type": "code",
   "execution_count": 11,
   "id": "41d8f4a0",
   "metadata": {},
   "outputs": [
    {
     "name": "stdout",
     "output_type": "stream",
     "text": [
      "2023-05-18 15:49:48.590518\n"
     ]
    }
   ],
   "source": [
    "after = datetime.datetime.now()\n",
    "print(after)"
   ]
  },
  {
   "cell_type": "code",
   "execution_count": 12,
   "id": "4957e1cd",
   "metadata": {},
   "outputs": [
    {
     "name": "stdout",
     "output_type": "stream",
     "text": [
      "0.7800189652738909\n"
     ]
    }
   ],
   "source": [
    "coherence_score = coherence_model.get_coherence_per_topic()[7]\n",
    "print(coherence_score)"
   ]
  },
  {
   "cell_type": "code",
   "execution_count": 13,
   "id": "705b7db0",
   "metadata": {},
   "outputs": [
    {
     "name": "stdout",
     "output_type": "stream",
     "text": [
      "2023-05-18 15:54:56.777285\n"
     ]
    }
   ],
   "source": [
    "after = datetime.datetime.now()\n",
    "print(after)"
   ]
  },
  {
   "cell_type": "code",
   "execution_count": null,
   "id": "349d001c",
   "metadata": {},
   "outputs": [],
   "source": [
    "topic_cluster_words = []\n",
    "\n",
    "topic_words = lda_model.show_topic(topic_number, topn=10)\n",
    "topic_words = [word for word, _ in topic_words]\n",
    "topic_cluster_words.append(\", \".join(topic_words))\n",
    "print(topic_cluster_words)"
   ]
  },
  {
   "cell_type": "markdown",
   "id": "6042846d",
   "metadata": {},
   "source": [
    "topic 0:\n",
    "topic 1: 0.6207699918619637\n",
    "topic 2: 0.44741884738484644\n",
    "topic 3: 0.2749774347322928\n",
    "topic 4: \n",
    "topic 5: 0.6936560900569879\n",
    "topic 6: \n",
    "topic 7: 0.7800189652738909\n",
    "topic 8: 0.5143029831846286\n",
    "topic 9: 0.5690835473600127\n",
    "topic 10: 0.5280982069450864\n",
    "topic 11: \n",
    "topic 12: \n",
    "topic 13:\n",
    "topic 14: \n",
    "topic 15: \n",
    "topic 16: \n",
    "topic 17: \n",
    "topic 18: \n",
    "topic 19: \n",
    "topic 20: \n",
    "topic 21: \n",
    "topic 22: \n",
    "topic 23: \n",
    "topic 24: \n",
    "topic 25: \n",
    "topic 26: \n",
    "topic 27:\n",
    "topic 28: \n",
    "topic 29: "
   ]
  },
  {
   "cell_type": "markdown",
   "id": "8be377af",
   "metadata": {},
   "source": [
    "### all at once"
   ]
  },
  {
   "cell_type": "code",
   "execution_count": 15,
   "id": "96964fe8",
   "metadata": {},
   "outputs": [
    {
     "name": "stdout",
     "output_type": "stream",
     "text": [
      "topic 0    0.387276669207062    ['one, would, also, may, term, many, different, even, example, time']\n",
      "topic 1    0.6207699918619637    ['one, would, also, may, term, many, different, even, example, time', 'article, study, scientist, research, data, source, report, read, science, link']\n",
      "topic 2    0.44741884738484644    ['one, would, also, may, term, many, different, even, example, time', 'article, study, scientist, research, data, source, report, read, science, link', 'year, last, time, ago, day, every, million, next, new, decade']\n",
      "topic 3    0.2749774347322928    ['one, would, also, may, term, many, different, even, example, time', 'article, study, scientist, research, data, source, report, read, science, link', 'year, last, time, ago, day, every, million, next, new, decade', 'space, reactor, 2020, safe, thanks, projection, existential, jet, invasion, private']\n",
      "topic 4    0.2609927397054235    ['one, would, also, may, term, many, different, even, example, time', 'article, study, scientist, research, data, source, report, read, science, link', 'year, last, time, ago, day, every, million, next, new, decade', 'space, reactor, 2020, safe, thanks, projection, existential, jet, invasion, private', 'welcome, capitalism, system, re, arguing, headline, capitalist, ignoring, socialist, socialism']\n",
      "topic 5    0.6936560900569879    ['one, would, also, may, term, many, different, even, example, time', 'article, study, scientist, research, data, source, report, read, science, link', 'year, last, time, ago, day, every, million, next, new, decade', 'space, reactor, 2020, safe, thanks, projection, existential, jet, invasion, private', 'welcome, capitalism, system, re, arguing, headline, capitalist, ignoring, socialist, socialism', 'energy, nuclear, fuel, oil, fossil, carbon, power, gas, coal, plant']\n",
      "topic 6    0.6211333050623391    ['one, would, also, may, term, many, different, even, example, time', 'article, study, scientist, research, data, source, report, read, science, link', 'year, last, time, ago, day, every, million, next, new, decade', 'space, reactor, 2020, safe, thanks, projection, existential, jet, invasion, private', 'welcome, capitalism, system, re, arguing, headline, capitalist, ignoring, socialist, socialism', 'energy, nuclear, fuel, oil, fossil, carbon, power, gas, coal, plant', 'tax, government, money, company, public, policy, pay, business, law, dollar']\n",
      "topic 7    0.7800189652738909    ['one, would, also, may, term, many, different, even, example, time', 'article, study, scientist, research, data, source, report, read, science, link', 'year, last, time, ago, day, every, million, next, new, decade', 'space, reactor, 2020, safe, thanks, projection, existential, jet, invasion, private', 'welcome, capitalism, system, re, arguing, headline, capitalist, ignoring, socialist, socialism', 'energy, nuclear, fuel, oil, fossil, carbon, power, gas, coal, plant', 'tax, government, money, company, public, policy, pay, business, law, dollar', 'global, warming, ice, temperature, weather, heat, winter, cold, extreme, arctic']\n",
      "topic 8    0.5143029831846286    ['one, would, also, may, term, many, different, even, example, time', 'article, study, scientist, research, data, source, report, read, science, link', 'year, last, time, ago, day, every, million, next, new, decade', 'space, reactor, 2020, safe, thanks, projection, existential, jet, invasion, private', 'welcome, capitalism, system, re, arguing, headline, capitalist, ignoring, socialist, socialism', 'energy, nuclear, fuel, oil, fossil, carbon, power, gas, coal, plant', 'tax, government, money, company, public, policy, pay, business, law, dollar', 'global, warming, ice, temperature, weather, heat, winter, cold, extreme, arctic', 'say, people, said, think, one, point, know, saying, want, wrong']\n",
      "topic 9    0.5690835473600127    ['one, would, also, may, term, many, different, even, example, time', 'article, study, scientist, research, data, source, report, read, science, link', 'year, last, time, ago, day, every, million, next, new, decade', 'space, reactor, 2020, safe, thanks, projection, existential, jet, invasion, private', 'welcome, capitalism, system, re, arguing, headline, capitalist, ignoring, socialist, socialism', 'energy, nuclear, fuel, oil, fossil, carbon, power, gas, coal, plant', 'tax, government, money, company, public, policy, pay, business, law, dollar', 'global, warming, ice, temperature, weather, heat, winter, cold, extreme, arctic', 'say, people, said, think, one, point, know, saying, want, wrong', 'water, area, fire, level, sea, land, due, region, drought, city']\n",
      "topic 10    0.5280982069450864    ['one, would, also, may, term, many, different, even, example, time', 'article, study, scientist, research, data, source, report, read, science, link', 'year, last, time, ago, day, every, million, next, new, decade', 'space, reactor, 2020, safe, thanks, projection, existential, jet, invasion, private', 'welcome, capitalism, system, re, arguing, headline, capitalist, ignoring, socialist, socialism', 'energy, nuclear, fuel, oil, fossil, carbon, power, gas, coal, plant', 'tax, government, money, company, public, policy, pay, business, law, dollar', 'global, warming, ice, temperature, weather, heat, winter, cold, extreme, arctic', 'say, people, said, think, one, point, know, saying, want, wrong', 'water, area, fire, level, sea, land, due, region, drought, city', 'population, human, collapse, crisis, resource, threat, future, humanity, disaster, risk']\n",
      "topic 11    0.4479316692487143    ['one, would, also, may, term, many, different, even, example, time', 'article, study, scientist, research, data, source, report, read, science, link', 'year, last, time, ago, day, every, million, next, new, decade', 'space, reactor, 2020, safe, thanks, projection, existential, jet, invasion, private', 'welcome, capitalism, system, re, arguing, headline, capitalist, ignoring, socialist, socialism', 'energy, nuclear, fuel, oil, fossil, carbon, power, gas, coal, plant', 'tax, government, money, company, public, policy, pay, business, law, dollar', 'global, warming, ice, temperature, weather, heat, winter, cold, extreme, arctic', 'say, people, said, think, one, point, know, saying, want, wrong', 'water, area, fire, level, sea, land, due, region, drought, city', 'population, human, collapse, crisis, resource, threat, future, humanity, disaster, risk', 'fucking, fuck, shit, dont, bullshit, stupid, ‘, minister, thats, anti']\n",
      "topic 12    0.3151615363086972    ['one, would, also, may, term, many, different, even, example, time', 'article, study, scientist, research, data, source, report, read, science, link', 'year, last, time, ago, day, every, million, next, new, decade', 'space, reactor, 2020, safe, thanks, projection, existential, jet, invasion, private', 'welcome, capitalism, system, re, arguing, headline, capitalist, ignoring, socialist, socialism', 'energy, nuclear, fuel, oil, fossil, carbon, power, gas, coal, plant', 'tax, government, money, company, public, policy, pay, business, law, dollar', 'global, warming, ice, temperature, weather, heat, winter, cold, extreme, arctic', 'say, people, said, think, one, point, know, saying, want, wrong', 'water, area, fire, level, sea, land, due, region, drought, city', 'population, human, collapse, crisis, resource, threat, future, humanity, disaster, risk', 'fucking, fuck, shit, dont, bullshit, stupid, ‘, minister, thats, anti', 'good, evil, wonder, faith, weird, red, camp, blue, sky, luck']\n",
      "topic 13    0.4819299081636406    ['one, would, also, may, term, many, different, even, example, time', 'article, study, scientist, research, data, source, report, read, science, link', 'year, last, time, ago, day, every, million, next, new, decade', 'space, reactor, 2020, safe, thanks, projection, existential, jet, invasion, private', 'welcome, capitalism, system, re, arguing, headline, capitalist, ignoring, socialist, socialism', 'energy, nuclear, fuel, oil, fossil, carbon, power, gas, coal, plant', 'tax, government, money, company, public, policy, pay, business, law, dollar', 'global, warming, ice, temperature, weather, heat, winter, cold, extreme, arctic', 'say, people, said, think, one, point, know, saying, want, wrong', 'water, area, fire, level, sea, land, due, region, drought, city', 'population, human, collapse, crisis, resource, threat, future, humanity, disaster, risk', 'fucking, fuck, shit, dont, bullshit, stupid, ‘, minister, thats, anti', 'good, evil, wonder, faith, weird, red, camp, blue, sky, luck', 'like, thing, think, people, really, lot, much, good, bad, s']\n"
     ]
    },
    {
     "name": "stdout",
     "output_type": "stream",
     "text": [
      "topic 14    0.3425234693838918    ['one, would, also, may, term, many, different, even, example, time', 'article, study, scientist, research, data, source, report, read, science, link', 'year, last, time, ago, day, every, million, next, new, decade', 'space, reactor, 2020, safe, thanks, projection, existential, jet, invasion, private', 'welcome, capitalism, system, re, arguing, headline, capitalist, ignoring, socialist, socialism', 'energy, nuclear, fuel, oil, fossil, carbon, power, gas, coal, plant', 'tax, government, money, company, public, policy, pay, business, law, dollar', 'global, warming, ice, temperature, weather, heat, winter, cold, extreme, arctic', 'say, people, said, think, one, point, know, saying, want, wrong', 'water, area, fire, level, sea, land, due, region, drought, city', 'population, human, collapse, crisis, resource, threat, future, humanity, disaster, risk', 'fucking, fuck, shit, dont, bullshit, stupid, ‘, minister, thats, anti', 'good, evil, wonder, faith, weird, red, camp, blue, sky, luck', 'like, thing, think, people, really, lot, much, good, bad, s', 'death, seriously, m, virus, warning, race, mad, dire, mankind, threatening']\n",
      "topic 15    0.500843244908866    ['one, would, also, may, term, many, different, even, example, time', 'article, study, scientist, research, data, source, report, read, science, link', 'year, last, time, ago, day, every, million, next, new, decade', 'space, reactor, 2020, safe, thanks, projection, existential, jet, invasion, private', 'welcome, capitalism, system, re, arguing, headline, capitalist, ignoring, socialist, socialism', 'energy, nuclear, fuel, oil, fossil, carbon, power, gas, coal, plant', 'tax, government, money, company, public, policy, pay, business, law, dollar', 'global, warming, ice, temperature, weather, heat, winter, cold, extreme, arctic', 'say, people, said, think, one, point, know, saying, want, wrong', 'water, area, fire, level, sea, land, due, region, drought, city', 'population, human, collapse, crisis, resource, threat, future, humanity, disaster, risk', 'fucking, fuck, shit, dont, bullshit, stupid, ‘, minister, thats, anti', 'good, evil, wonder, faith, weird, red, camp, blue, sky, luck', 'like, thing, think, people, really, lot, much, good, bad, s', 'death, seriously, m, virus, warning, race, mad, dire, mankind, threatening', 'emission, impact, pollution, environmental, global, reduce, carbon, environment, policy, effect']\n",
      "topic 16    0.4289328325253969    ['one, would, also, may, term, many, different, even, example, time', 'article, study, scientist, research, data, source, report, read, science, link', 'year, last, time, ago, day, every, million, next, new, decade', 'space, reactor, 2020, safe, thanks, projection, existential, jet, invasion, private', 'welcome, capitalism, system, re, arguing, headline, capitalist, ignoring, socialist, socialism', 'energy, nuclear, fuel, oil, fossil, carbon, power, gas, coal, plant', 'tax, government, money, company, public, policy, pay, business, law, dollar', 'global, warming, ice, temperature, weather, heat, winter, cold, extreme, arctic', 'say, people, said, think, one, point, know, saying, want, wrong', 'water, area, fire, level, sea, land, due, region, drought, city', 'population, human, collapse, crisis, resource, threat, future, humanity, disaster, risk', 'fucking, fuck, shit, dont, bullshit, stupid, ‘, minister, thats, anti', 'good, evil, wonder, faith, weird, red, camp, blue, sky, luck', 'like, thing, think, people, really, lot, much, good, bad, s', 'death, seriously, m, virus, warning, race, mad, dire, mankind, threatening', 'emission, impact, pollution, environmental, global, reduce, carbon, environment, policy, effect', 'would, could, like, love, thought, school, maybe, never, work, friend']\n",
      "topic 17    0.6275916544150315    ['one, would, also, may, term, many, different, even, example, time', 'article, study, scientist, research, data, source, report, read, science, link', 'year, last, time, ago, day, every, million, next, new, decade', 'space, reactor, 2020, safe, thanks, projection, existential, jet, invasion, private', 'welcome, capitalism, system, re, arguing, headline, capitalist, ignoring, socialist, socialism', 'energy, nuclear, fuel, oil, fossil, carbon, power, gas, coal, plant', 'tax, government, money, company, public, policy, pay, business, law, dollar', 'global, warming, ice, temperature, weather, heat, winter, cold, extreme, arctic', 'say, people, said, think, one, point, know, saying, want, wrong', 'water, area, fire, level, sea, land, due, region, drought, city', 'population, human, collapse, crisis, resource, threat, future, humanity, disaster, risk', 'fucking, fuck, shit, dont, bullshit, stupid, ‘, minister, thats, anti', 'good, evil, wonder, faith, weird, red, camp, blue, sky, luck', 'like, thing, think, people, really, lot, much, good, bad, s', 'death, seriously, m, virus, warning, race, mad, dire, mankind, threatening', 'emission, impact, pollution, environmental, global, reduce, carbon, environment, policy, effect', 'would, could, like, love, thought, school, maybe, never, work, friend', 'country, world, china, war, russia, nation, india, america, american, europe']\n",
      "topic 18    0.8050206809469337    ['one, would, also, may, term, many, different, even, example, time', 'article, study, scientist, research, data, source, report, read, science, link', 'year, last, time, ago, day, every, million, next, new, decade', 'space, reactor, 2020, safe, thanks, projection, existential, jet, invasion, private', 'welcome, capitalism, system, re, arguing, headline, capitalist, ignoring, socialist, socialism', 'energy, nuclear, fuel, oil, fossil, carbon, power, gas, coal, plant', 'tax, government, money, company, public, policy, pay, business, law, dollar', 'global, warming, ice, temperature, weather, heat, winter, cold, extreme, arctic', 'say, people, said, think, one, point, know, saying, want, wrong', 'water, area, fire, level, sea, land, due, region, drought, city', 'population, human, collapse, crisis, resource, threat, future, humanity, disaster, risk', 'fucking, fuck, shit, dont, bullshit, stupid, ‘, minister, thats, anti', 'good, evil, wonder, faith, weird, red, camp, blue, sky, luck', 'like, thing, think, people, really, lot, much, good, bad, s', 'death, seriously, m, virus, warning, race, mad, dire, mankind, threatening', 'emission, impact, pollution, environmental, global, reduce, carbon, environment, policy, effect', 'would, could, like, love, thought, school, maybe, never, work, friend', 'country, world, china, war, russia, nation, india, america, american, europe', 'meat, food, animal, plastic, eat, eating, vegan, feed, product, agriculture']\n",
      "topic 19    0.7001119081275637    ['one, would, also, may, term, many, different, even, example, time', 'article, study, scientist, research, data, source, report, read, science, link', 'year, last, time, ago, day, every, million, next, new, decade', 'space, reactor, 2020, safe, thanks, projection, existential, jet, invasion, private', 'welcome, capitalism, system, re, arguing, headline, capitalist, ignoring, socialist, socialism', 'energy, nuclear, fuel, oil, fossil, carbon, power, gas, coal, plant', 'tax, government, money, company, public, policy, pay, business, law, dollar', 'global, warming, ice, temperature, weather, heat, winter, cold, extreme, arctic', 'say, people, said, think, one, point, know, saying, want, wrong', 'water, area, fire, level, sea, land, due, region, drought, city', 'population, human, collapse, crisis, resource, threat, future, humanity, disaster, risk', 'fucking, fuck, shit, dont, bullshit, stupid, ‘, minister, thats, anti', 'good, evil, wonder, faith, weird, red, camp, blue, sky, luck', 'like, thing, think, people, really, lot, much, good, bad, s', 'death, seriously, m, virus, warning, race, mad, dire, mankind, threatening', 'emission, impact, pollution, environmental, global, reduce, carbon, environment, policy, effect', 'would, could, like, love, thought, school, maybe, never, work, friend', 'country, world, china, war, russia, nation, india, america, american, europe', 'meat, food, animal, plastic, eat, eating, vegan, feed, product, agriculture', 'specie, extinction, pandemic, tree, animal, mass, crop, ecosystem, plant, human']\n"
     ]
    },
    {
     "name": "stdout",
     "output_type": "stream",
     "text": [
      "topic 20    0.5470896521931932    ['one, would, also, may, term, many, different, even, example, time', 'article, study, scientist, research, data, source, report, read, science, link', 'year, last, time, ago, day, every, million, next, new, decade', 'space, reactor, 2020, safe, thanks, projection, existential, jet, invasion, private', 'welcome, capitalism, system, re, arguing, headline, capitalist, ignoring, socialist, socialism', 'energy, nuclear, fuel, oil, fossil, carbon, power, gas, coal, plant', 'tax, government, money, company, public, policy, pay, business, law, dollar', 'global, warming, ice, temperature, weather, heat, winter, cold, extreme, arctic', 'say, people, said, think, one, point, know, saying, want, wrong', 'water, area, fire, level, sea, land, due, region, drought, city', 'population, human, collapse, crisis, resource, threat, future, humanity, disaster, risk', 'fucking, fuck, shit, dont, bullshit, stupid, ‘, minister, thats, anti', 'good, evil, wonder, faith, weird, red, camp, blue, sky, luck', 'like, thing, think, people, really, lot, much, good, bad, s', 'death, seriously, m, virus, warning, race, mad, dire, mankind, threatening', 'emission, impact, pollution, environmental, global, reduce, carbon, environment, policy, effect', 'would, could, like, love, thought, school, maybe, never, work, friend', 'country, world, china, war, russia, nation, india, america, american, europe', 'meat, food, animal, plastic, eat, eating, vegan, feed, product, agriculture', 'specie, extinction, pandemic, tree, animal, mass, crop, ecosystem, plant, human', 'right, protest, left, activist, child, woman, white, wing, group, social']\n",
      "topic 21    0.48481791995739504    ['one, would, also, may, term, many, different, even, example, time', 'article, study, scientist, research, data, source, report, read, science, link', 'year, last, time, ago, day, every, million, next, new, decade', 'space, reactor, 2020, safe, thanks, projection, existential, jet, invasion, private', 'welcome, capitalism, system, re, arguing, headline, capitalist, ignoring, socialist, socialism', 'energy, nuclear, fuel, oil, fossil, carbon, power, gas, coal, plant', 'tax, government, money, company, public, policy, pay, business, law, dollar', 'global, warming, ice, temperature, weather, heat, winter, cold, extreme, arctic', 'say, people, said, think, one, point, know, saying, want, wrong', 'water, area, fire, level, sea, land, due, region, drought, city', 'population, human, collapse, crisis, resource, threat, future, humanity, disaster, risk', 'fucking, fuck, shit, dont, bullshit, stupid, ‘, minister, thats, anti', 'good, evil, wonder, faith, weird, red, camp, blue, sky, luck', 'like, thing, think, people, really, lot, much, good, bad, s', 'death, seriously, m, virus, warning, race, mad, dire, mankind, threatening', 'emission, impact, pollution, environmental, global, reduce, carbon, environment, policy, effect', 'would, could, like, love, thought, school, maybe, never, work, friend', 'country, world, china, war, russia, nation, india, america, american, europe', 'meat, food, animal, plastic, eat, eating, vegan, feed, product, agriculture', 'specie, extinction, pandemic, tree, animal, mass, crop, ecosystem, plant, human', 'right, protest, left, activist, child, woman, white, wing, group, social', 'people, going, world, life, get, planet, ll, go, want, time']\n",
      "topic 22    0.582579331050487    ['one, would, also, may, term, many, different, even, example, time', 'article, study, scientist, research, data, source, report, read, science, link', 'year, last, time, ago, day, every, million, next, new, decade', 'space, reactor, 2020, safe, thanks, projection, existential, jet, invasion, private', 'welcome, capitalism, system, re, arguing, headline, capitalist, ignoring, socialist, socialism', 'energy, nuclear, fuel, oil, fossil, carbon, power, gas, coal, plant', 'tax, government, money, company, public, policy, pay, business, law, dollar', 'global, warming, ice, temperature, weather, heat, winter, cold, extreme, arctic', 'say, people, said, think, one, point, know, saying, want, wrong', 'water, area, fire, level, sea, land, due, region, drought, city', 'population, human, collapse, crisis, resource, threat, future, humanity, disaster, risk', 'fucking, fuck, shit, dont, bullshit, stupid, ‘, minister, thats, anti', 'good, evil, wonder, faith, weird, red, camp, blue, sky, luck', 'like, thing, think, people, really, lot, much, good, bad, s', 'death, seriously, m, virus, warning, race, mad, dire, mankind, threatening', 'emission, impact, pollution, environmental, global, reduce, carbon, environment, policy, effect', 'would, could, like, love, thought, school, maybe, never, work, friend', 'country, world, china, war, russia, nation, india, america, american, europe', 'meat, food, animal, plastic, eat, eating, vegan, feed, product, agriculture', 'specie, extinction, pandemic, tree, animal, mass, crop, ecosystem, plant, human', 'right, protest, left, activist, child, woman, white, wing, group, social', 'people, going, world, life, get, planet, ll, go, want, time', 'science, people, believe, fact, denier, evidence, claim, real, belief, lie']\n",
      "topic 23    0.651226623398438    ['one, would, also, may, term, many, different, even, example, time', 'article, study, scientist, research, data, source, report, read, science, link', 'year, last, time, ago, day, every, million, next, new, decade', 'space, reactor, 2020, safe, thanks, projection, existential, jet, invasion, private', 'welcome, capitalism, system, re, arguing, headline, capitalist, ignoring, socialist, socialism', 'energy, nuclear, fuel, oil, fossil, carbon, power, gas, coal, plant', 'tax, government, money, company, public, policy, pay, business, law, dollar', 'global, warming, ice, temperature, weather, heat, winter, cold, extreme, arctic', 'say, people, said, think, one, point, know, saying, want, wrong', 'water, area, fire, level, sea, land, due, region, drought, city', 'population, human, collapse, crisis, resource, threat, future, humanity, disaster, risk', 'fucking, fuck, shit, dont, bullshit, stupid, ‘, minister, thats, anti', 'good, evil, wonder, faith, weird, red, camp, blue, sky, luck', 'like, thing, think, people, really, lot, much, good, bad, s', 'death, seriously, m, virus, warning, race, mad, dire, mankind, threatening', 'emission, impact, pollution, environmental, global, reduce, carbon, environment, policy, effect', 'would, could, like, love, thought, school, maybe, never, work, friend', 'country, world, china, war, russia, nation, india, america, american, europe', 'meat, food, animal, plastic, eat, eating, vegan, feed, product, agriculture', 'specie, extinction, pandemic, tree, animal, mass, crop, ecosystem, plant, human', 'right, protest, left, activist, child, woman, white, wing, group, social', 'people, going, world, life, get, planet, ll, go, want, time', 'science, people, believe, fact, denier, evidence, claim, real, belief, lie', 'co2, earth, human, effect, atmosphere, greenhouse, gas, carbon, emission, caused']\n",
      "topic 24    0.4222704979162703    ['one, would, also, may, term, many, different, even, example, time', 'article, study, scientist, research, data, source, report, read, science, link', 'year, last, time, ago, day, every, million, next, new, decade', 'space, reactor, 2020, safe, thanks, projection, existential, jet, invasion, private', 'welcome, capitalism, system, re, arguing, headline, capitalist, ignoring, socialist, socialism', 'energy, nuclear, fuel, oil, fossil, carbon, power, gas, coal, plant', 'tax, government, money, company, public, policy, pay, business, law, dollar', 'global, warming, ice, temperature, weather, heat, winter, cold, extreme, arctic', 'say, people, said, think, one, point, know, saying, want, wrong', 'water, area, fire, level, sea, land, due, region, drought, city', 'population, human, collapse, crisis, resource, threat, future, humanity, disaster, risk', 'fucking, fuck, shit, dont, bullshit, stupid, ‘, minister, thats, anti', 'good, evil, wonder, faith, weird, red, camp, blue, sky, luck', 'like, thing, think, people, really, lot, much, good, bad, s', 'death, seriously, m, virus, warning, race, mad, dire, mankind, threatening', 'emission, impact, pollution, environmental, global, reduce, carbon, environment, policy, effect', 'would, could, like, love, thought, school, maybe, never, work, friend', 'country, world, china, war, russia, nation, india, america, american, europe', 'meat, food, animal, plastic, eat, eating, vegan, feed, product, agriculture', 'specie, extinction, pandemic, tree, animal, mass, crop, ecosystem, plant, human', 'right, protest, left, activist, child, woman, white, wing, group, social', 'people, going, world, life, get, planet, ll, go, want, time', 'science, people, believe, fact, denier, evidence, claim, real, belief, lie', 'co2, earth, human, effect, atmosphere, greenhouse, gas, carbon, emission, caused', 'oh, yeah, video, watch, book, folk, joke, cancer, guy, stick']\n"
     ]
    },
    {
     "name": "stdout",
     "output_type": "stream",
     "text": [
      "topic 25    0.5861122337767515    ['one, would, also, may, term, many, different, even, example, time', 'article, study, scientist, research, data, source, report, read, science, link', 'year, last, time, ago, day, every, million, next, new, decade', 'space, reactor, 2020, safe, thanks, projection, existential, jet, invasion, private', 'welcome, capitalism, system, re, arguing, headline, capitalist, ignoring, socialist, socialism', 'energy, nuclear, fuel, oil, fossil, carbon, power, gas, coal, plant', 'tax, government, money, company, public, policy, pay, business, law, dollar', 'global, warming, ice, temperature, weather, heat, winter, cold, extreme, arctic', 'say, people, said, think, one, point, know, saying, want, wrong', 'water, area, fire, level, sea, land, due, region, drought, city', 'population, human, collapse, crisis, resource, threat, future, humanity, disaster, risk', 'fucking, fuck, shit, dont, bullshit, stupid, ‘, minister, thats, anti', 'good, evil, wonder, faith, weird, red, camp, blue, sky, luck', 'like, thing, think, people, really, lot, much, good, bad, s', 'death, seriously, m, virus, warning, race, mad, dire, mankind, threatening', 'emission, impact, pollution, environmental, global, reduce, carbon, environment, policy, effect', 'would, could, like, love, thought, school, maybe, never, work, friend', 'country, world, china, war, russia, nation, india, america, american, europe', 'meat, food, animal, plastic, eat, eating, vegan, feed, product, agriculture', 'specie, extinction, pandemic, tree, animal, mass, crop, ecosystem, plant, human', 'right, protest, left, activist, child, woman, white, wing, group, social', 'people, going, world, life, get, planet, ll, go, want, time', 'science, people, believe, fact, denier, evidence, claim, real, belief, lie', 'co2, earth, human, effect, atmosphere, greenhouse, gas, carbon, emission, caused', 'oh, yeah, video, watch, book, folk, joke, cancer, guy, stick', '1, feedback, 2, tl, 3, could, make, 5, top, 4']\n",
      "topic 26    0.29495851569860704    ['one, would, also, may, term, many, different, even, example, time', 'article, study, scientist, research, data, source, report, read, science, link', 'year, last, time, ago, day, every, million, next, new, decade', 'space, reactor, 2020, safe, thanks, projection, existential, jet, invasion, private', 'welcome, capitalism, system, re, arguing, headline, capitalist, ignoring, socialist, socialism', 'energy, nuclear, fuel, oil, fossil, carbon, power, gas, coal, plant', 'tax, government, money, company, public, policy, pay, business, law, dollar', 'global, warming, ice, temperature, weather, heat, winter, cold, extreme, arctic', 'say, people, said, think, one, point, know, saying, want, wrong', 'water, area, fire, level, sea, land, due, region, drought, city', 'population, human, collapse, crisis, resource, threat, future, humanity, disaster, risk', 'fucking, fuck, shit, dont, bullshit, stupid, ‘, minister, thats, anti', 'good, evil, wonder, faith, weird, red, camp, blue, sky, luck', 'like, thing, think, people, really, lot, much, good, bad, s', 'death, seriously, m, virus, warning, race, mad, dire, mankind, threatening', 'emission, impact, pollution, environmental, global, reduce, carbon, environment, policy, effect', 'would, could, like, love, thought, school, maybe, never, work, friend', 'country, world, china, war, russia, nation, india, america, american, europe', 'meat, food, animal, plastic, eat, eating, vegan, feed, product, agriculture', 'specie, extinction, pandemic, tree, animal, mass, crop, ecosystem, plant, human', 'right, protest, left, activist, child, woman, white, wing, group, social', 'people, going, world, life, get, planet, ll, go, want, time', 'science, people, believe, fact, denier, evidence, claim, real, belief, lie', 'co2, earth, human, effect, atmosphere, greenhouse, gas, carbon, emission, caused', 'oh, yeah, video, watch, book, folk, joke, cancer, guy, stick', '1, feedback, 2, tl, 3, could, make, 5, top, 4', 'news, fucked, stop, mitigation, fake, reef, wait, ocean, coral, doomed']\n",
      "topic 27    0.5042349406869595    ['one, would, also, may, term, many, different, even, example, time', 'article, study, scientist, research, data, source, report, read, science, link', 'year, last, time, ago, day, every, million, next, new, decade', 'space, reactor, 2020, safe, thanks, projection, existential, jet, invasion, private', 'welcome, capitalism, system, re, arguing, headline, capitalist, ignoring, socialist, socialism', 'energy, nuclear, fuel, oil, fossil, carbon, power, gas, coal, plant', 'tax, government, money, company, public, policy, pay, business, law, dollar', 'global, warming, ice, temperature, weather, heat, winter, cold, extreme, arctic', 'say, people, said, think, one, point, know, saying, want, wrong', 'water, area, fire, level, sea, land, due, region, drought, city', 'population, human, collapse, crisis, resource, threat, future, humanity, disaster, risk', 'fucking, fuck, shit, dont, bullshit, stupid, ‘, minister, thats, anti', 'good, evil, wonder, faith, weird, red, camp, blue, sky, luck', 'like, thing, think, people, really, lot, much, good, bad, s', 'death, seriously, m, virus, warning, race, mad, dire, mankind, threatening', 'emission, impact, pollution, environmental, global, reduce, carbon, environment, policy, effect', 'would, could, like, love, thought, school, maybe, never, work, friend', 'country, world, china, war, russia, nation, india, america, american, europe', 'meat, food, animal, plastic, eat, eating, vegan, feed, product, agriculture', 'specie, extinction, pandemic, tree, animal, mass, crop, ecosystem, plant, human', 'right, protest, left, activist, child, woman, white, wing, group, social', 'people, going, world, life, get, planet, ll, go, want, time', 'science, people, believe, fact, denier, evidence, claim, real, belief, lie', 'co2, earth, human, effect, atmosphere, greenhouse, gas, carbon, emission, caused', 'oh, yeah, video, watch, book, folk, joke, cancer, guy, stick', '1, feedback, 2, tl, 3, could, make, 5, top, 4', 'news, fucked, stop, mitigation, fake, reef, wait, ocean, coral, doomed', 'comment, post, reddit, please, concern, thank, rule, action, message, check']\n",
      "topic 28    0.4827613000665617    ['one, would, also, may, term, many, different, even, example, time', 'article, study, scientist, research, data, source, report, read, science, link', 'year, last, time, ago, day, every, million, next, new, decade', 'space, reactor, 2020, safe, thanks, projection, existential, jet, invasion, private', 'welcome, capitalism, system, re, arguing, headline, capitalist, ignoring, socialist, socialism', 'energy, nuclear, fuel, oil, fossil, carbon, power, gas, coal, plant', 'tax, government, money, company, public, policy, pay, business, law, dollar', 'global, warming, ice, temperature, weather, heat, winter, cold, extreme, arctic', 'say, people, said, think, one, point, know, saying, want, wrong', 'water, area, fire, level, sea, land, due, region, drought, city', 'population, human, collapse, crisis, resource, threat, future, humanity, disaster, risk', 'fucking, fuck, shit, dont, bullshit, stupid, ‘, minister, thats, anti', 'good, evil, wonder, faith, weird, red, camp, blue, sky, luck', 'like, thing, think, people, really, lot, much, good, bad, s', 'death, seriously, m, virus, warning, race, mad, dire, mankind, threatening', 'emission, impact, pollution, environmental, global, reduce, carbon, environment, policy, effect', 'would, could, like, love, thought, school, maybe, never, work, friend', 'country, world, china, war, russia, nation, india, america, american, europe', 'meat, food, animal, plastic, eat, eating, vegan, feed, product, agriculture', 'specie, extinction, pandemic, tree, animal, mass, crop, ecosystem, plant, human', 'right, protest, left, activist, child, woman, white, wing, group, social', 'people, going, world, life, get, planet, ll, go, want, time', 'science, people, believe, fact, denier, evidence, claim, real, belief, lie', 'co2, earth, human, effect, atmosphere, greenhouse, gas, carbon, emission, caused', 'oh, yeah, video, watch, book, folk, joke, cancer, guy, stick', '1, feedback, 2, tl, 3, could, make, 5, top, 4', 'news, fucked, stop, mitigation, fake, reef, wait, ocean, coral, doomed', 'comment, post, reddit, please, concern, thank, rule, action, message, check', 'people, need, problem, would, make, like, way, thing, get, one']\n"
     ]
    },
    {
     "name": "stdout",
     "output_type": "stream",
     "text": [
      "topic 29    0.7728428827056761    ['one, would, also, may, term, many, different, even, example, time', 'article, study, scientist, research, data, source, report, read, science, link', 'year, last, time, ago, day, every, million, next, new, decade', 'space, reactor, 2020, safe, thanks, projection, existential, jet, invasion, private', 'welcome, capitalism, system, re, arguing, headline, capitalist, ignoring, socialist, socialism', 'energy, nuclear, fuel, oil, fossil, carbon, power, gas, coal, plant', 'tax, government, money, company, public, policy, pay, business, law, dollar', 'global, warming, ice, temperature, weather, heat, winter, cold, extreme, arctic', 'say, people, said, think, one, point, know, saying, want, wrong', 'water, area, fire, level, sea, land, due, region, drought, city', 'population, human, collapse, crisis, resource, threat, future, humanity, disaster, risk', 'fucking, fuck, shit, dont, bullshit, stupid, ‘, minister, thats, anti', 'good, evil, wonder, faith, weird, red, camp, blue, sky, luck', 'like, thing, think, people, really, lot, much, good, bad, s', 'death, seriously, m, virus, warning, race, mad, dire, mankind, threatening', 'emission, impact, pollution, environmental, global, reduce, carbon, environment, policy, effect', 'would, could, like, love, thought, school, maybe, never, work, friend', 'country, world, china, war, russia, nation, india, america, american, europe', 'meat, food, animal, plastic, eat, eating, vegan, feed, product, agriculture', 'specie, extinction, pandemic, tree, animal, mass, crop, ecosystem, plant, human', 'right, protest, left, activist, child, woman, white, wing, group, social', 'people, going, world, life, get, planet, ll, go, want, time', 'science, people, believe, fact, denier, evidence, claim, real, belief, lie', 'co2, earth, human, effect, atmosphere, greenhouse, gas, carbon, emission, caused', 'oh, yeah, video, watch, book, folk, joke, cancer, guy, stick', '1, feedback, 2, tl, 3, could, make, 5, top, 4', 'news, fucked, stop, mitigation, fake, reef, wait, ocean, coral, doomed', 'comment, post, reddit, please, concern, thank, rule, action, message, check', 'people, need, problem, would, make, like, way, thing, get, one', 'trump, party, vote, republican, conservative, policy, president, election, political, democrat']\n"
     ]
    }
   ],
   "source": [
    "topic_cluster_words = []\n",
    "coh_score = []\n",
    "\n",
    "for i in range(0, 30):\n",
    "    # Get the top words for the specific topic\n",
    "    topic_words = lda_model.show_topic(i, topn=10)\n",
    "    topic_words = [word for word, _ in topic_words]\n",
    "    topic_cluster_words.append(\", \".join(topic_words))\n",
    "\n",
    "    \n",
    "    coherence_score = coherence_model.get_coherence_per_topic()[i]\n",
    "    coh_score.append(coherence_score)\n",
    "    print('topic', i, '  ', coherence_score, '  ', topic_cluster_words)\n",
    "    "
   ]
  },
  {
   "cell_type": "code",
   "execution_count": 16,
   "id": "06e75b2f",
   "metadata": {},
   "outputs": [],
   "source": [
    "results_df = pd.DataFrame({\n",
    "    'topic_number': range(30),\n",
    "    'coherence_score': coh_score\n",
    "})"
   ]
  },
  {
   "cell_type": "code",
   "execution_count": 17,
   "id": "e3552327",
   "metadata": {},
   "outputs": [
    {
     "data": {
      "text/html": [
       "<div>\n",
       "<style scoped>\n",
       "    .dataframe tbody tr th:only-of-type {\n",
       "        vertical-align: middle;\n",
       "    }\n",
       "\n",
       "    .dataframe tbody tr th {\n",
       "        vertical-align: top;\n",
       "    }\n",
       "\n",
       "    .dataframe thead th {\n",
       "        text-align: right;\n",
       "    }\n",
       "</style>\n",
       "<table border=\"1\" class=\"dataframe\">\n",
       "  <thead>\n",
       "    <tr style=\"text-align: right;\">\n",
       "      <th></th>\n",
       "      <th>topic_number</th>\n",
       "      <th>coherence_score</th>\n",
       "    </tr>\n",
       "  </thead>\n",
       "  <tbody>\n",
       "    <tr>\n",
       "      <th>0</th>\n",
       "      <td>0</td>\n",
       "      <td>0.387277</td>\n",
       "    </tr>\n",
       "    <tr>\n",
       "      <th>1</th>\n",
       "      <td>1</td>\n",
       "      <td>0.620770</td>\n",
       "    </tr>\n",
       "    <tr>\n",
       "      <th>2</th>\n",
       "      <td>2</td>\n",
       "      <td>0.447419</td>\n",
       "    </tr>\n",
       "    <tr>\n",
       "      <th>3</th>\n",
       "      <td>3</td>\n",
       "      <td>0.274977</td>\n",
       "    </tr>\n",
       "    <tr>\n",
       "      <th>4</th>\n",
       "      <td>4</td>\n",
       "      <td>0.260993</td>\n",
       "    </tr>\n",
       "    <tr>\n",
       "      <th>5</th>\n",
       "      <td>5</td>\n",
       "      <td>0.693656</td>\n",
       "    </tr>\n",
       "    <tr>\n",
       "      <th>6</th>\n",
       "      <td>6</td>\n",
       "      <td>0.621133</td>\n",
       "    </tr>\n",
       "    <tr>\n",
       "      <th>7</th>\n",
       "      <td>7</td>\n",
       "      <td>0.780019</td>\n",
       "    </tr>\n",
       "    <tr>\n",
       "      <th>8</th>\n",
       "      <td>8</td>\n",
       "      <td>0.514303</td>\n",
       "    </tr>\n",
       "    <tr>\n",
       "      <th>9</th>\n",
       "      <td>9</td>\n",
       "      <td>0.569084</td>\n",
       "    </tr>\n",
       "    <tr>\n",
       "      <th>10</th>\n",
       "      <td>10</td>\n",
       "      <td>0.528098</td>\n",
       "    </tr>\n",
       "    <tr>\n",
       "      <th>11</th>\n",
       "      <td>11</td>\n",
       "      <td>0.447932</td>\n",
       "    </tr>\n",
       "    <tr>\n",
       "      <th>12</th>\n",
       "      <td>12</td>\n",
       "      <td>0.315162</td>\n",
       "    </tr>\n",
       "    <tr>\n",
       "      <th>13</th>\n",
       "      <td>13</td>\n",
       "      <td>0.481930</td>\n",
       "    </tr>\n",
       "    <tr>\n",
       "      <th>14</th>\n",
       "      <td>14</td>\n",
       "      <td>0.342523</td>\n",
       "    </tr>\n",
       "    <tr>\n",
       "      <th>15</th>\n",
       "      <td>15</td>\n",
       "      <td>0.500843</td>\n",
       "    </tr>\n",
       "    <tr>\n",
       "      <th>16</th>\n",
       "      <td>16</td>\n",
       "      <td>0.428933</td>\n",
       "    </tr>\n",
       "    <tr>\n",
       "      <th>17</th>\n",
       "      <td>17</td>\n",
       "      <td>0.627592</td>\n",
       "    </tr>\n",
       "    <tr>\n",
       "      <th>18</th>\n",
       "      <td>18</td>\n",
       "      <td>0.805021</td>\n",
       "    </tr>\n",
       "    <tr>\n",
       "      <th>19</th>\n",
       "      <td>19</td>\n",
       "      <td>0.700112</td>\n",
       "    </tr>\n",
       "    <tr>\n",
       "      <th>20</th>\n",
       "      <td>20</td>\n",
       "      <td>0.547090</td>\n",
       "    </tr>\n",
       "    <tr>\n",
       "      <th>21</th>\n",
       "      <td>21</td>\n",
       "      <td>0.484818</td>\n",
       "    </tr>\n",
       "    <tr>\n",
       "      <th>22</th>\n",
       "      <td>22</td>\n",
       "      <td>0.582579</td>\n",
       "    </tr>\n",
       "    <tr>\n",
       "      <th>23</th>\n",
       "      <td>23</td>\n",
       "      <td>0.651227</td>\n",
       "    </tr>\n",
       "    <tr>\n",
       "      <th>24</th>\n",
       "      <td>24</td>\n",
       "      <td>0.422270</td>\n",
       "    </tr>\n",
       "    <tr>\n",
       "      <th>25</th>\n",
       "      <td>25</td>\n",
       "      <td>0.586112</td>\n",
       "    </tr>\n",
       "    <tr>\n",
       "      <th>26</th>\n",
       "      <td>26</td>\n",
       "      <td>0.294959</td>\n",
       "    </tr>\n",
       "    <tr>\n",
       "      <th>27</th>\n",
       "      <td>27</td>\n",
       "      <td>0.504235</td>\n",
       "    </tr>\n",
       "    <tr>\n",
       "      <th>28</th>\n",
       "      <td>28</td>\n",
       "      <td>0.482761</td>\n",
       "    </tr>\n",
       "    <tr>\n",
       "      <th>29</th>\n",
       "      <td>29</td>\n",
       "      <td>0.772843</td>\n",
       "    </tr>\n",
       "  </tbody>\n",
       "</table>\n",
       "</div>"
      ],
      "text/plain": [
       "    topic_number  coherence_score\n",
       "0              0         0.387277\n",
       "1              1         0.620770\n",
       "2              2         0.447419\n",
       "3              3         0.274977\n",
       "4              4         0.260993\n",
       "5              5         0.693656\n",
       "6              6         0.621133\n",
       "7              7         0.780019\n",
       "8              8         0.514303\n",
       "9              9         0.569084\n",
       "10            10         0.528098\n",
       "11            11         0.447932\n",
       "12            12         0.315162\n",
       "13            13         0.481930\n",
       "14            14         0.342523\n",
       "15            15         0.500843\n",
       "16            16         0.428933\n",
       "17            17         0.627592\n",
       "18            18         0.805021\n",
       "19            19         0.700112\n",
       "20            20         0.547090\n",
       "21            21         0.484818\n",
       "22            22         0.582579\n",
       "23            23         0.651227\n",
       "24            24         0.422270\n",
       "25            25         0.586112\n",
       "26            26         0.294959\n",
       "27            27         0.504235\n",
       "28            28         0.482761\n",
       "29            29         0.772843"
      ]
     },
     "execution_count": 17,
     "metadata": {},
     "output_type": "execute_result"
    }
   ],
   "source": [
    "results_df"
   ]
  },
  {
   "cell_type": "code",
   "execution_count": 18,
   "id": "cdfe0e1a",
   "metadata": {},
   "outputs": [],
   "source": [
    "results_df.to_csv('topic_coherence-scores.csv', index=False)"
   ]
  },
  {
   "cell_type": "code",
   "execution_count": null,
   "id": "bfbe856e",
   "metadata": {},
   "outputs": [],
   "source": []
  }
 ],
 "metadata": {
  "kernelspec": {
   "display_name": "Python 3 (ipykernel)",
   "language": "python",
   "name": "python3"
  },
  "language_info": {
   "codemirror_mode": {
    "name": "ipython",
    "version": 3
   },
   "file_extension": ".py",
   "mimetype": "text/x-python",
   "name": "python",
   "nbconvert_exporter": "python",
   "pygments_lexer": "ipython3",
   "version": "3.9.7"
  }
 },
 "nbformat": 4,
 "nbformat_minor": 5
}
