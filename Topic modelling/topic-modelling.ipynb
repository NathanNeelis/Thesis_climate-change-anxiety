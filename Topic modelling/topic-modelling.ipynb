{
 "cells": [
  {
   "cell_type": "code",
   "execution_count": 1,
   "id": "d8d74cdd",
   "metadata": {},
   "outputs": [],
   "source": [
    "import pandas as pd\n",
    "import collections\n",
    "import gensim\n",
    "from gensim import corpora\n",
    "import csv \n",
    "import numpy as np\n",
    "import pyLDAvis.gensim_models as gensimvis\n",
    "import pyLDAvis"
   ]
  },
  {
   "cell_type": "markdown",
   "id": "74150069",
   "metadata": {},
   "source": [
    "## Topic modelling"
   ]
  },
  {
   "cell_type": "code",
   "execution_count": 2,
   "id": "5f88058e",
   "metadata": {},
   "outputs": [],
   "source": [
    "df = pd.read_csv('ds_test/preprocessed_topicmoddeling_masterset.csv', low_memory=False, lineterminator='\\n')"
   ]
  },
  {
   "cell_type": "code",
   "execution_count": 3,
   "id": "8f0e3881",
   "metadata": {},
   "outputs": [
    {
     "name": "stdout",
     "output_type": "stream",
     "text": [
      "1909336\n"
     ]
    }
   ],
   "source": [
    "print(len(df))"
   ]
  },
  {
   "cell_type": "code",
   "execution_count": null,
   "id": "3609fa90",
   "metadata": {},
   "outputs": [],
   "source": [
    "## set seed\n",
    "seednr = 4894493\n",
    "np.random.seed(seednr)"
   ]
  },
  {
   "cell_type": "markdown",
   "id": "36c5da3c",
   "metadata": {},
   "source": [
    "### Document Term Matrix"
   ]
  },
  {
   "cell_type": "code",
   "execution_count": null,
   "id": "b5001a12",
   "metadata": {},
   "outputs": [],
   "source": [
    "df_dtm = df"
   ]
  },
  {
   "cell_type": "code",
   "execution_count": null,
   "id": "df533791",
   "metadata": {},
   "outputs": [],
   "source": [
    "#removing nulls\n",
    "mask = df_dtm['body-tm'].notnull()\n",
    "df_dtm = df_dtm[mask]"
   ]
  },
  {
   "cell_type": "code",
   "execution_count": null,
   "id": "5d2746e4",
   "metadata": {},
   "outputs": [],
   "source": [
    "# convert the preprocessed text column to a list of strings\n",
    "documents = list(df_dtm['body-tm'])\n",
    "\n",
    "# tokenize the documents\n",
    "tokenized_docs = [doc.split() for doc in documents]\n",
    "\n",
    "# create a dictionary from the tokenized documents\n",
    "dictionary = corpora.Dictionary(tokenized_docs)\n",
    "\n",
    "# create a corpus using the dictionary and the tokenized documents\n",
    "corpus = [dictionary.doc2bow(doc) for doc in tokenized_docs]"
   ]
  },
  {
   "cell_type": "code",
   "execution_count": null,
   "id": "288ed892",
   "metadata": {
    "scrolled": true
   },
   "outputs": [],
   "source": [
    "# Train the LDA model on the corpus\n",
    "num_topics = 16\n",
    "total_words = 5\n",
    "lda_model = gensim.models.ldamodel.LdaModel(corpus=corpus, num_topics=num_topics, id2word=dictionary, passes=1, random_state=seednr)\n",
    "\n",
    "with open(f'ds_test/topicmodelling_results_seed{seednr}_topics{num_topics}_words{total_words}.csv', 'w', newline='') as file:\n",
    "    writer = csv.writer(file)\n",
    "    writer.writerow(['Topic', 'Words'])\n",
    "    for idx, topic in lda_model.print_topics(num_words=total_words):\n",
    "        print('Topic: {} \\nWords: {}'.format(idx, topic))\n",
    "        writer.writerow([idx, topic])\n",
    "        "
   ]
  },
  {
   "cell_type": "code",
   "execution_count": null,
   "id": "145eaed5",
   "metadata": {},
   "outputs": [],
   "source": [
    "topics = lda_model.show_topics(num_topics=num_topics, num_words=10, formatted=False)\n",
    "\n",
    "topic_list = []\n",
    "for i, topic in topics:\n",
    "    top_keywords = [word for word, _ in topic]\n",
    "    topic_dict = {'Topic': i, 'Top Keywords': ', '.join(top_keywords)}\n",
    "    topic_list.append(topic_dict)\n",
    "\n",
    "df_topic = pd.DataFrame(topic_list)\n",
    "df_topic.to_csv(f'ds_test/topicmodelling_results_seed{seednr}_topics{num_topics}_words{total_words}.csv_alt.csv', index=False)"
   ]
  },
  {
   "cell_type": "code",
   "execution_count": null,
   "id": "265fb2db",
   "metadata": {},
   "outputs": [],
   "source": [
    "#Print time to indicate how long the model has run\n",
    "from datetime import datetime\n",
    "\n",
    "now = datetime.now()\n",
    "current_time = now.strftime(\"%H:%M:%S\")\n",
    "\n",
    "print(\"Current Time =\", current_time)\n"
   ]
  },
  {
   "cell_type": "code",
   "execution_count": null,
   "id": "71a498fb",
   "metadata": {},
   "outputs": [],
   "source": [
    "# Play audio tune to indicate the model has finished\n",
    "from IPython.display import Audio\n",
    "# Load audio file\n",
    "audio_file = \"audio/done.mp3\"\n",
    "# Play audio file\n",
    "Audio(filename=audio_file, autoplay=True)"
   ]
  },
  {
   "cell_type": "markdown",
   "id": "6b7c0a96",
   "metadata": {},
   "source": [
    "## Save model"
   ]
  },
  {
   "cell_type": "code",
   "execution_count": null,
   "id": "c7117346",
   "metadata": {},
   "outputs": [],
   "source": [
    "# Save the LDA model\n",
    "lda_model.save(f'ds_test/topic_models/tm_seed{seednr}_topics{num_topics}.model')"
   ]
  },
  {
   "cell_type": "markdown",
   "id": "8768e2eb",
   "metadata": {},
   "source": [
    "## Visualisation"
   ]
  },
  {
   "cell_type": "code",
   "execution_count": null,
   "id": "417efe6f",
   "metadata": {},
   "outputs": [],
   "source": [
    "# create a visualization of the topics\n",
    "vis = gensimvis.prepare(lda_model, corpus, dictionary, sort_topics=False)\n",
    "pyLDAvis.display(vis)\n",
    "\n"
   ]
  },
  {
   "cell_type": "markdown",
   "id": "c59eec92",
   "metadata": {},
   "source": [
    "## Coherence score"
   ]
  },
  {
   "cell_type": "markdown",
   "id": "a3757ec2",
   "metadata": {},
   "source": [
    "#### Umass coherence score"
   ]
  },
  {
   "cell_type": "code",
   "execution_count": null,
   "id": "5fcbf1d9",
   "metadata": {},
   "outputs": [],
   "source": [
    "from gensim.models import CoherenceModel\n",
    "\n",
    "# calculate the c_v coherence score for the model\n",
    "cv_coherence_model_lda = CoherenceModel(model=lda_model, texts=tokenized_docs, dictionary=dictionary, coherence='u_mass')\n",
    "cv_coherence_lda = cv_coherence_model_lda.get_coherence()\n",
    "\n",
    "\n",
    "print(f\"The u_mass coherence score for the LDA model is {cv_coherence_lda:.3f}\")"
   ]
  },
  {
   "cell_type": "markdown",
   "id": "b79592a2",
   "metadata": {},
   "source": [
    "#### c_v coherence score"
   ]
  },
  {
   "cell_type": "code",
   "execution_count": null,
   "id": "85a6032f",
   "metadata": {},
   "outputs": [],
   "source": [
    "from gensim.models import CoherenceModel\n",
    "\n",
    "# calculate the c_v coherence score for the model\n",
    "coherence_model_lda = CoherenceModel(model=lda_model, texts=tokenized_docs, dictionary=dictionary, coherence='c_v')\n",
    "\n",
    "coherence_lda = coherence_model_lda.get_coherence()\n",
    "\n",
    "\n",
    "print(f\"The c_v coherence score for the LDA model is {coherence_lda:.3f}\")"
   ]
  },
  {
   "cell_type": "code",
   "execution_count": null,
   "id": "c94a394c",
   "metadata": {},
   "outputs": [],
   "source": [
    "# Play audio file\n",
    "Audio(filename=audio_file, autoplay=True)"
   ]
  },
  {
   "cell_type": "markdown",
   "id": "fc19269c",
   "metadata": {},
   "source": [
    "## Perplexity score"
   ]
  },
  {
   "cell_type": "code",
   "execution_count": null,
   "id": "04ca871c",
   "metadata": {},
   "outputs": [],
   "source": [
    "# Compute the perplexity score\n",
    "perplexity = lda_model.log_perplexity(corpus)\n",
    "\n",
    "print(f\"The perplexity score for the LDA model is {perplexity:.3f}\")"
   ]
  },
  {
   "cell_type": "code",
   "execution_count": null,
   "id": "3ff27a6b",
   "metadata": {},
   "outputs": [],
   "source": [
    "# Play audio file\n",
    "Audio(filename=audio_file, autoplay=True)"
   ]
  },
  {
   "cell_type": "code",
   "execution_count": null,
   "id": "c9b06097",
   "metadata": {},
   "outputs": [],
   "source": []
  }
 ],
 "metadata": {
  "kernelspec": {
   "display_name": "Python 3 (ipykernel)",
   "language": "python",
   "name": "python3"
  },
  "language_info": {
   "codemirror_mode": {
    "name": "ipython",
    "version": 3
   },
   "file_extension": ".py",
   "mimetype": "text/x-python",
   "name": "python",
   "nbconvert_exporter": "python",
   "pygments_lexer": "ipython3",
   "version": "3.9.13"
  }
 },
 "nbformat": 4,
 "nbformat_minor": 5
}
